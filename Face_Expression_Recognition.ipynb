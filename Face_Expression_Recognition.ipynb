{
  "nbformat": 4,
  "nbformat_minor": 0,
  "metadata": {
    "colab": {
      "name": "Face Expression Recognition.ipynb",
      "provenance": [],
      "collapsed_sections": [],
      "authorship_tag": "ABX9TyNYSv5bhPh7/5xYmojLnOsH",
      "include_colab_link": true
    },
    "kernelspec": {
      "name": "python3",
      "display_name": "Python 3"
    },
    "accelerator": "GPU"
  },
  "cells": [
    {
      "cell_type": "markdown",
      "metadata": {
        "id": "view-in-github",
        "colab_type": "text"
      },
      "source": [
        "<a href=\"https://colab.research.google.com/github/arjunbangari/Facial-Expression-Recognition/blob/master/Face_Expression_Recognition.ipynb\" target=\"_parent\"><img src=\"https://colab.research.google.com/assets/colab-badge.svg\" alt=\"Open In Colab\"/></a>"
      ]
    },
    {
      "cell_type": "code",
      "metadata": {
        "id": "Do4oD8vsworB",
        "colab_type": "code",
        "colab": {}
      },
      "source": [
        "! pip install -q --upgrade kaggle\n",
        "from google.colab import files\n",
        "files.upload()"
      ],
      "execution_count": null,
      "outputs": []
    },
    {
      "cell_type": "code",
      "metadata": {
        "id": "qXJqJ17Iw_nL",
        "colab_type": "code",
        "colab": {}
      },
      "source": [
        "! mkdir ~/.kaggle\n",
        "! cp kaggle.json ~/.kaggle/\n",
        "! chmod 600 ~/.kaggle/kaggle.json"
      ],
      "execution_count": 2,
      "outputs": []
    },
    {
      "cell_type": "code",
      "metadata": {
        "id": "7ADX36GgxFVH",
        "colab_type": "code",
        "colab": {
          "base_uri": "https://localhost:8080/",
          "height": 68
        },
        "outputId": "9246849e-1d39-4abe-a4ee-de501c010112"
      },
      "source": [
        "! kaggle datasets download -d jonathanoheix/face-expression-recognition-dataset"
      ],
      "execution_count": 3,
      "outputs": [
        {
          "output_type": "stream",
          "text": [
            "Downloading face-expression-recognition-dataset.zip to /content\n",
            " 94% 113M/121M [00:05<00:00, 21.9MB/s] \n",
            "100% 121M/121M [00:05<00:00, 24.4MB/s]\n"
          ],
          "name": "stdout"
        }
      ]
    },
    {
      "cell_type": "code",
      "metadata": {
        "id": "V-25axvixHou",
        "colab_type": "code",
        "colab": {}
      },
      "source": [
        "! unzip face-expression-recognition-dataset.zip"
      ],
      "execution_count": null,
      "outputs": []
    },
    {
      "cell_type": "code",
      "metadata": {
        "id": "V65XXb0SxtK7",
        "colab_type": "code",
        "colab": {
          "base_uri": "https://localhost:8080/",
          "height": 34
        },
        "outputId": "1d628741-b96d-4335-c75c-882759cbf5f9"
      },
      "source": [
        "from PIL import Image\n",
        "import os\n",
        "\n",
        "filename = \"/content/images/train/angry/\" + os.listdir(\"/content/images/train/angry/\")[0]\n",
        "img = Image.open(filename)\n",
        "print(img.size)"
      ],
      "execution_count": 12,
      "outputs": [
        {
          "output_type": "stream",
          "text": [
            "(48, 48)\n"
          ],
          "name": "stdout"
        }
      ]
    },
    {
      "cell_type": "code",
      "metadata": {
        "id": "mvR7jIkAx2JD",
        "colab_type": "code",
        "colab": {}
      },
      "source": [
        "import tensorflow as tf\n",
        "from tensorflow.keras.optimizers import Adam\n",
        "from tensorflow.keras.losses import CategoricalCrossentropy\n",
        "from tensorflow.keras.preprocessing.image import ImageDataGenerator"
      ],
      "execution_count": 21,
      "outputs": []
    },
    {
      "cell_type": "code",
      "metadata": {
        "id": "QpoT9Gi4yLEC",
        "colab_type": "code",
        "colab": {
          "base_uri": "https://localhost:8080/",
          "height": 663
        },
        "outputId": "39f60b71-6e6c-43c2-c087-776234d8db97"
      },
      "source": [
        "model = tf.keras.models.Sequential([\n",
        "    tf.keras.layers.Conv2D(16, (3, 3), activation='relu', input_shape = (48, 48, 1), padding='same'),\n",
        "    tf.keras.layers.MaxPooling2D(2, 2),\n",
        "    tf.keras.layers.Dropout(0.2),\n",
        "\n",
        "    tf.keras.layers.Conv2D(32, (3, 3), activation='relu', padding='same'),\n",
        "    tf.keras.layers.MaxPooling2D(2, 2),\n",
        "    tf.keras.layers.Dropout(0.2),\n",
        "\n",
        "    tf.keras.layers.Conv2D(64, (3, 3), activation='relu', padding='same'),\n",
        "    tf.keras.layers.MaxPooling2D(2, 2),\n",
        "    tf.keras.layers.Dropout(0.2),\n",
        "\n",
        "    tf.keras.layers.Conv2D(128, (3, 3), activation='relu', padding='same'),\n",
        "    tf.keras.layers.MaxPooling2D(2, 2),\n",
        "    tf.keras.layers.Dropout(0.2),\n",
        "\n",
        "    tf.keras.layers.Flatten(),\n",
        "\n",
        "    tf.keras.layers.Dense(512, activation='relu'),\n",
        "    tf.keras.layers.Dense(7, activation = 'softmax')\n",
        "])\n",
        "\n",
        "model.compile(optimizer=Adam(), loss=CategoricalCrossentropy(), metrics=['acc'])\n",
        "model.summary()"
      ],
      "execution_count": 31,
      "outputs": [
        {
          "output_type": "stream",
          "text": [
            "Model: \"sequential_6\"\n",
            "_________________________________________________________________\n",
            "Layer (type)                 Output Shape              Param #   \n",
            "=================================================================\n",
            "conv2d_20 (Conv2D)           (None, 48, 48, 16)        160       \n",
            "_________________________________________________________________\n",
            "max_pooling2d_20 (MaxPooling (None, 24, 24, 16)        0         \n",
            "_________________________________________________________________\n",
            "dropout_11 (Dropout)         (None, 24, 24, 16)        0         \n",
            "_________________________________________________________________\n",
            "conv2d_21 (Conv2D)           (None, 24, 24, 32)        4640      \n",
            "_________________________________________________________________\n",
            "max_pooling2d_21 (MaxPooling (None, 12, 12, 32)        0         \n",
            "_________________________________________________________________\n",
            "dropout_12 (Dropout)         (None, 12, 12, 32)        0         \n",
            "_________________________________________________________________\n",
            "conv2d_22 (Conv2D)           (None, 12, 12, 64)        18496     \n",
            "_________________________________________________________________\n",
            "max_pooling2d_22 (MaxPooling (None, 6, 6, 64)          0         \n",
            "_________________________________________________________________\n",
            "dropout_13 (Dropout)         (None, 6, 6, 64)          0         \n",
            "_________________________________________________________________\n",
            "conv2d_23 (Conv2D)           (None, 6, 6, 128)         73856     \n",
            "_________________________________________________________________\n",
            "max_pooling2d_23 (MaxPooling (None, 3, 3, 128)         0         \n",
            "_________________________________________________________________\n",
            "dropout_14 (Dropout)         (None, 3, 3, 128)         0         \n",
            "_________________________________________________________________\n",
            "flatten_6 (Flatten)          (None, 1152)              0         \n",
            "_________________________________________________________________\n",
            "dense_12 (Dense)             (None, 512)               590336    \n",
            "_________________________________________________________________\n",
            "dense_13 (Dense)             (None, 7)                 3591      \n",
            "=================================================================\n",
            "Total params: 691,079\n",
            "Trainable params: 691,079\n",
            "Non-trainable params: 0\n",
            "_________________________________________________________________\n"
          ],
          "name": "stdout"
        }
      ]
    },
    {
      "cell_type": "code",
      "metadata": {
        "id": "zvbRZxWazOa_",
        "colab_type": "code",
        "colab": {
          "base_uri": "https://localhost:8080/",
          "height": 51
        },
        "outputId": "6c5a0fa6-9bed-4442-bd7f-00499ec66984"
      },
      "source": [
        "training_dir = \"/content/images/train\"\n",
        "validation_dir = \"/content/images/validation\"\n",
        "\n",
        "train_datagen = ImageDataGenerator(\n",
        "    rescale = 1.0/255, \n",
        "    rotation_range = 10, \n",
        "    horizontal_flip = True,\n",
        "    fill_mode = 'nearest'\n",
        ")\n",
        "\n",
        "train_generator =  train_datagen.flow_from_directory(\n",
        "    training_dir,\n",
        "    target_size = (48, 48),\n",
        "    class_mode = 'categorical',\n",
        "    color_mode = 'grayscale',\n",
        "    batch_size = 64\n",
        ")\n",
        "\n",
        "validation_datagen = ImageDataGenerator(\n",
        "    rescale = 1.0/255\n",
        ")\n",
        "\n",
        "validation_generator = validation_datagen.flow_from_directory(\n",
        "    validation_dir,\n",
        "    target_size = (48, 48),\n",
        "    class_mode = 'categorical',\n",
        "    color_mode = 'grayscale',\n",
        "    batch_size = 64\n",
        ")"
      ],
      "execution_count": 32,
      "outputs": [
        {
          "output_type": "stream",
          "text": [
            "Found 28821 images belonging to 7 classes.\n",
            "Found 7066 images belonging to 7 classes.\n"
          ],
          "name": "stdout"
        }
      ]
    },
    {
      "cell_type": "code",
      "metadata": {
        "id": "4d3FOaud0plL",
        "colab_type": "code",
        "colab": {
          "base_uri": "https://localhost:8080/",
          "height": 1000
        },
        "outputId": "0ff572cf-6e78-410f-e2a0-d7fa59df34e5"
      },
      "source": [
        "history = model.fit(\n",
        "    train_generator,\n",
        "    epochs = 50,\n",
        "    validation_data = validation_generator\n",
        "    )"
      ],
      "execution_count": 33,
      "outputs": [
        {
          "output_type": "stream",
          "text": [
            "Epoch 1/50\n",
            "451/451 [==============================] - 16s 36ms/step - loss: 1.7747 - acc: 0.2720 - val_loss: 1.6845 - val_acc: 0.3316\n",
            "Epoch 2/50\n",
            "451/451 [==============================] - 16s 35ms/step - loss: 1.6174 - acc: 0.3667 - val_loss: 1.4973 - val_acc: 0.4285\n",
            "Epoch 3/50\n",
            "451/451 [==============================] - 16s 35ms/step - loss: 1.5136 - acc: 0.4113 - val_loss: 1.3998 - val_acc: 0.4585\n",
            "Epoch 4/50\n",
            "451/451 [==============================] - 16s 35ms/step - loss: 1.4307 - acc: 0.4468 - val_loss: 1.3334 - val_acc: 0.4832\n",
            "Epoch 5/50\n",
            "451/451 [==============================] - 16s 35ms/step - loss: 1.3781 - acc: 0.4664 - val_loss: 1.3179 - val_acc: 0.4929\n",
            "Epoch 6/50\n",
            "451/451 [==============================] - 16s 35ms/step - loss: 1.3398 - acc: 0.4840 - val_loss: 1.2513 - val_acc: 0.5246\n",
            "Epoch 7/50\n",
            "451/451 [==============================] - 16s 35ms/step - loss: 1.3127 - acc: 0.4956 - val_loss: 1.2315 - val_acc: 0.5378\n",
            "Epoch 8/50\n",
            "451/451 [==============================] - 16s 35ms/step - loss: 1.2861 - acc: 0.5036 - val_loss: 1.2018 - val_acc: 0.5480\n",
            "Epoch 9/50\n",
            "451/451 [==============================] - 16s 35ms/step - loss: 1.2611 - acc: 0.5177 - val_loss: 1.1894 - val_acc: 0.5440\n",
            "Epoch 10/50\n",
            "451/451 [==============================] - 16s 35ms/step - loss: 1.2443 - acc: 0.5253 - val_loss: 1.1661 - val_acc: 0.5641\n",
            "Epoch 11/50\n",
            "451/451 [==============================] - 16s 36ms/step - loss: 1.2333 - acc: 0.5282 - val_loss: 1.1539 - val_acc: 0.5685\n",
            "Epoch 12/50\n",
            "451/451 [==============================] - 16s 35ms/step - loss: 1.2174 - acc: 0.5339 - val_loss: 1.1513 - val_acc: 0.5626\n",
            "Epoch 13/50\n",
            "451/451 [==============================] - 16s 35ms/step - loss: 1.2087 - acc: 0.5370 - val_loss: 1.1293 - val_acc: 0.5742\n",
            "Epoch 14/50\n",
            "451/451 [==============================] - 16s 35ms/step - loss: 1.1926 - acc: 0.5457 - val_loss: 1.1239 - val_acc: 0.5818\n",
            "Epoch 15/50\n",
            "451/451 [==============================] - 16s 35ms/step - loss: 1.1872 - acc: 0.5458 - val_loss: 1.1316 - val_acc: 0.5817\n",
            "Epoch 16/50\n",
            "451/451 [==============================] - 16s 36ms/step - loss: 1.1670 - acc: 0.5549 - val_loss: 1.1105 - val_acc: 0.5825\n",
            "Epoch 17/50\n",
            "451/451 [==============================] - 16s 35ms/step - loss: 1.1583 - acc: 0.5562 - val_loss: 1.1123 - val_acc: 0.5846\n",
            "Epoch 18/50\n",
            "451/451 [==============================] - 16s 35ms/step - loss: 1.1510 - acc: 0.5618 - val_loss: 1.1289 - val_acc: 0.5733\n",
            "Epoch 19/50\n",
            "451/451 [==============================] - 16s 36ms/step - loss: 1.1434 - acc: 0.5649 - val_loss: 1.0928 - val_acc: 0.5921\n",
            "Epoch 20/50\n",
            "451/451 [==============================] - 16s 35ms/step - loss: 1.1376 - acc: 0.5665 - val_loss: 1.1097 - val_acc: 0.5913\n",
            "Epoch 21/50\n",
            "451/451 [==============================] - 16s 35ms/step - loss: 1.1217 - acc: 0.5717 - val_loss: 1.0958 - val_acc: 0.5914\n",
            "Epoch 22/50\n",
            "451/451 [==============================] - 16s 35ms/step - loss: 1.1106 - acc: 0.5751 - val_loss: 1.1118 - val_acc: 0.5906\n",
            "Epoch 23/50\n",
            "451/451 [==============================] - 16s 35ms/step - loss: 1.1150 - acc: 0.5754 - val_loss: 1.0824 - val_acc: 0.5971\n",
            "Epoch 24/50\n",
            "451/451 [==============================] - 16s 36ms/step - loss: 1.0999 - acc: 0.5821 - val_loss: 1.0867 - val_acc: 0.5982\n",
            "Epoch 25/50\n",
            "451/451 [==============================] - 16s 35ms/step - loss: 1.0900 - acc: 0.5870 - val_loss: 1.0822 - val_acc: 0.5957\n",
            "Epoch 26/50\n",
            "451/451 [==============================] - 16s 35ms/step - loss: 1.0800 - acc: 0.5909 - val_loss: 1.0955 - val_acc: 0.5955\n",
            "Epoch 27/50\n",
            "451/451 [==============================] - 16s 35ms/step - loss: 1.0782 - acc: 0.5938 - val_loss: 1.0810 - val_acc: 0.5988\n",
            "Epoch 28/50\n",
            "451/451 [==============================] - 16s 35ms/step - loss: 1.0749 - acc: 0.5908 - val_loss: 1.1044 - val_acc: 0.5911\n",
            "Epoch 29/50\n",
            "451/451 [==============================] - 16s 36ms/step - loss: 1.0622 - acc: 0.5938 - val_loss: 1.0884 - val_acc: 0.5928\n",
            "Epoch 30/50\n",
            "451/451 [==============================] - 16s 36ms/step - loss: 1.0581 - acc: 0.5995 - val_loss: 1.0859 - val_acc: 0.6005\n",
            "Epoch 31/50\n",
            "451/451 [==============================] - 16s 35ms/step - loss: 1.0461 - acc: 0.6038 - val_loss: 1.0959 - val_acc: 0.5974\n",
            "Epoch 32/50\n",
            "451/451 [==============================] - 16s 35ms/step - loss: 1.0482 - acc: 0.6010 - val_loss: 1.0776 - val_acc: 0.5999\n",
            "Epoch 33/50\n",
            "451/451 [==============================] - 16s 35ms/step - loss: 1.0432 - acc: 0.6028 - val_loss: 1.0836 - val_acc: 0.6054\n",
            "Epoch 34/50\n",
            "451/451 [==============================] - 16s 35ms/step - loss: 1.0338 - acc: 0.6048 - val_loss: 1.0864 - val_acc: 0.6035\n",
            "Epoch 35/50\n",
            "451/451 [==============================] - 16s 36ms/step - loss: 1.0274 - acc: 0.6112 - val_loss: 1.0947 - val_acc: 0.5954\n",
            "Epoch 36/50\n",
            "451/451 [==============================] - 16s 35ms/step - loss: 1.0189 - acc: 0.6129 - val_loss: 1.0876 - val_acc: 0.6019\n",
            "Epoch 37/50\n",
            "451/451 [==============================] - 16s 36ms/step - loss: 1.0070 - acc: 0.6177 - val_loss: 1.0871 - val_acc: 0.6052\n",
            "Epoch 38/50\n",
            "451/451 [==============================] - 16s 35ms/step - loss: 1.0050 - acc: 0.6193 - val_loss: 1.0796 - val_acc: 0.6076\n",
            "Epoch 39/50\n",
            "451/451 [==============================] - 16s 36ms/step - loss: 1.0038 - acc: 0.6192 - val_loss: 1.0806 - val_acc: 0.6063\n",
            "Epoch 40/50\n",
            "451/451 [==============================] - 16s 35ms/step - loss: 0.9990 - acc: 0.6240 - val_loss: 1.0851 - val_acc: 0.6111\n",
            "Epoch 41/50\n",
            "451/451 [==============================] - 16s 36ms/step - loss: 0.9884 - acc: 0.6261 - val_loss: 1.0976 - val_acc: 0.6010\n",
            "Epoch 42/50\n",
            "451/451 [==============================] - 16s 35ms/step - loss: 0.9856 - acc: 0.6268 - val_loss: 1.0926 - val_acc: 0.6053\n",
            "Epoch 43/50\n",
            "451/451 [==============================] - 16s 35ms/step - loss: 0.9797 - acc: 0.6286 - val_loss: 1.0989 - val_acc: 0.5996\n",
            "Epoch 44/50\n",
            "451/451 [==============================] - 16s 36ms/step - loss: 0.9751 - acc: 0.6305 - val_loss: 1.1055 - val_acc: 0.5945\n",
            "Epoch 45/50\n",
            "451/451 [==============================] - 16s 35ms/step - loss: 0.9751 - acc: 0.6309 - val_loss: 1.0898 - val_acc: 0.6016\n",
            "Epoch 46/50\n",
            "451/451 [==============================] - 16s 35ms/step - loss: 0.9579 - acc: 0.6357 - val_loss: 1.0872 - val_acc: 0.6040\n",
            "Epoch 47/50\n",
            "451/451 [==============================] - 16s 35ms/step - loss: 0.9611 - acc: 0.6358 - val_loss: 1.0927 - val_acc: 0.6101\n",
            "Epoch 48/50\n",
            "451/451 [==============================] - 16s 36ms/step - loss: 0.9656 - acc: 0.6314 - val_loss: 1.0937 - val_acc: 0.6057\n",
            "Epoch 49/50\n",
            "451/451 [==============================] - 16s 36ms/step - loss: 0.9484 - acc: 0.6415 - val_loss: 1.0930 - val_acc: 0.6047\n",
            "Epoch 50/50\n",
            "451/451 [==============================] - 16s 35ms/step - loss: 0.9497 - acc: 0.6395 - val_loss: 1.1014 - val_acc: 0.6060\n"
          ],
          "name": "stdout"
        }
      ]
    },
    {
      "cell_type": "code",
      "metadata": {
        "id": "WsuQ941N0_c1",
        "colab_type": "code",
        "colab": {}
      },
      "source": [
        "import matplotlib.pyplot as plt\n",
        "%matplotlib inline"
      ],
      "execution_count": 38,
      "outputs": []
    },
    {
      "cell_type": "code",
      "metadata": {
        "id": "HBuxgly0BilP",
        "colab_type": "code",
        "colab": {
          "base_uri": "https://localhost:8080/",
          "height": 34
        },
        "outputId": "7738b350-05bc-4bdf-90de-f6d87b6817d1"
      },
      "source": [
        "print(history.history.keys())"
      ],
      "execution_count": 44,
      "outputs": [
        {
          "output_type": "stream",
          "text": [
            "dict_keys(['loss', 'acc', 'val_loss', 'val_acc'])\n"
          ],
          "name": "stdout"
        }
      ]
    },
    {
      "cell_type": "code",
      "metadata": {
        "id": "3PARE76aAc_A",
        "colab_type": "code",
        "colab": {
          "base_uri": "https://localhost:8080/",
          "height": 295
        },
        "outputId": "b445d5c8-a298-4c67-9987-4ddf3f4b96ac"
      },
      "source": [
        "# summarize history for accuracy\n",
        "plt.plot(history.history['acc'])\n",
        "plt.plot(history.history['val_acc'])\n",
        "plt.title('model accuracy')\n",
        "plt.ylabel('accuracy')\n",
        "plt.xlabel('epoch')\n",
        "plt.legend(['train', 'val'], loc='upper left')\n",
        "plt.show()"
      ],
      "execution_count": 41,
      "outputs": [
        {
          "output_type": "display_data",
          "data": {
            "image/png": "[encoded data removed]",
            "text/plain": [
              "<Figure size 432x288 with 1 Axes>"
            ]
          },
          "metadata": {
            "tags": [],
            "needs_background": "light"
          }
        }
      ]
    },
    {
      "cell_type": "code",
      "metadata": {
        "id": "5rXypkw-BAXD",
        "colab_type": "code",
        "colab": {
          "base_uri": "https://localhost:8080/",
          "height": 295
        },
        "outputId": "0ce98cf3-6b72-4c10-e650-ba6edf89947e"
      },
      "source": [
        "# summarize history for loss\n",
        "plt.plot(history.history['loss'])\n",
        "plt.plot(history.history['val_loss'])\n",
        "plt.title('model loss')\n",
        "plt.ylabel('loss')\n",
        "plt.xlabel('epoch')\n",
        "plt.legend(['train', 'val'], loc='upper left')\n",
        "plt.show()"
      ],
      "execution_count": 42,
      "outputs": [
        {
          "output_type": "display_data",
          "data": {
            "image/png": "[encoded data removed]",
            "text/plain": [
              "<Figure size 432x288 with 1 Axes>"
            ]
          },
          "metadata": {
            "tags": [],
            "needs_background": "light"
          }
        }
      ]
    },
    {
      "cell_type": "code",
      "metadata": {
        "id": "o4l9uhHABaKc",
        "colab_type": "code",
        "colab": {}
      },
      "source": [
        ""
      ],
      "execution_count": null,
      "outputs": []
    }
  ]
}